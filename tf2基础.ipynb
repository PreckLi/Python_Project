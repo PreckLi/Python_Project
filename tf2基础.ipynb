{
 "cells": [
  {
   "cell_type": "code",
   "execution_count": 33,
   "metadata": {},
   "outputs": [],
   "source": [
    "import tensorflow as tf\n",
    "from tensorflow.keras import layers"
   ]
  },
  {
   "cell_type": "markdown",
   "metadata": {},
   "source": [
    "# 创建已知分布的张量"
   ]
  },
  {
   "cell_type": "markdown",
   "metadata": {},
   "source": [
    "创建均值为 1，标准差为 2 的正态分布\n",
    "tf.random.normal([2,2],mean=1,stddev=2)"
   ]
  },
  {
   "cell_type": "code",
   "execution_count": 11,
   "metadata": {},
   "outputs": [
    {
     "data": {
      "text/plain": [
       "<tf.Tensor: id=77, shape=(2, 2), dtype=float32, numpy=\n",
       "array([[5.141506 , 1.5943587],\n",
       "       [3.174131 , 4.5377626]], dtype=float32)>"
      ]
     },
     "execution_count": 11,
     "metadata": {},
     "output_type": "execute_result"
    }
   ],
   "source": [
    "#通过 tf.random.uniform(shape, minval=0, maxval=None, dtype=tf.float32)可以创建采样自\n",
    "#[minval, maxval)区间的均匀分布的张量。例如创建采样自区间[0,1)，shape 为[2,2]的矩阵\n",
    "#创建采样自区间[0,10)，shape 为[2,2]的矩阵\n",
    "tf.random.uniform([2,2],maxval=10)"
   ]
  },
  {
   "cell_type": "code",
   "execution_count": 13,
   "metadata": {},
   "outputs": [
    {
     "data": {
      "text/plain": [
       "<tf.Tensor: id=87, shape=(2, 2), dtype=int32, numpy=\n",
       "array([[62, 41],\n",
       "       [24, 66]], dtype=int32)>"
      ]
     },
     "execution_count": 13,
     "metadata": {},
     "output_type": "execute_result"
    }
   ],
   "source": [
    "# 创建采样自[0,100)均匀分布的整型矩阵\n",
    "tf.random.uniform([2,2],maxval=100,dtype=tf.int32)"
   ]
  },
  {
   "cell_type": "markdown",
   "metadata": {},
   "source": [
    "# 创建序列"
   ]
  },
  {
   "cell_type": "code",
   "execution_count": 15,
   "metadata": {},
   "outputs": [
    {
     "data": {
      "text/plain": [
       "<tf.Tensor: id=97, shape=(10,), dtype=int32, numpy=array([0, 1, 2, 3, 4, 5, 6, 7, 8, 9], dtype=int32)>"
      ]
     },
     "execution_count": 15,
     "metadata": {},
     "output_type": "execute_result"
    }
   ],
   "source": [
    "#创建 0~10，步长为 1 的整型序列,左闭右开\n",
    "tf.range(10)"
   ]
  },
  {
   "cell_type": "code",
   "execution_count": 18,
   "metadata": {},
   "outputs": [
    {
     "data": {
      "text/plain": [
       "<tf.Tensor: id=112, shape=(5,), dtype=int32, numpy=array([0, 2, 4, 6, 8], dtype=int32)>"
      ]
     },
     "execution_count": 18,
     "metadata": {},
     "output_type": "execute_result"
    }
   ],
   "source": [
    "#创建0~10，步长为2的整型序列\n",
    "tf.range(10,delta=2)"
   ]
  },
  {
   "cell_type": "markdown",
   "metadata": {},
   "source": [
    "# 标量"
   ]
  },
  {
   "cell_type": "markdown",
   "metadata": {},
   "source": [
    "#### 标量维度为0.shape为[]"
   ]
  },
  {
   "cell_type": "code",
   "execution_count": 22,
   "metadata": {
    "scrolled": true
   },
   "outputs": [
    {
     "name": "stdout",
     "output_type": "stream",
     "text": [
      "out tf.Tensor(\n",
      "[[0.10034597 0.9148197  0.664093   0.25918996 0.47268355 0.22113085\n",
      "  0.830667   0.86885905 0.00961077 0.16113257]\n",
      " [0.12840533 0.2337029  0.46790433 0.19909239 0.00583291 0.05915821\n",
      "  0.83617103 0.7194425  0.21072626 0.38486564]\n",
      " [0.6234127  0.5634335  0.0096873  0.95132756 0.32047606 0.9515619\n",
      "  0.8662336  0.2788639  0.38036036 0.15227056]\n",
      " [0.2778399  0.8317174  0.6362715  0.27790463 0.48425364 0.46107757\n",
      "  0.10194802 0.09289646 0.23903692 0.22662163]], shape=(4, 10), dtype=float32)\n",
      "y tf.Tensor(\n",
      "[[0. 0. 1. 0. 0. 0. 0. 0. 0. 0.]\n",
      " [0. 0. 0. 1. 0. 0. 0. 0. 0. 0.]\n",
      " [0. 0. 1. 0. 0. 0. 0. 0. 0. 0.]\n",
      " [1. 0. 0. 0. 0. 0. 0. 0. 0. 0.]], shape=(4, 10), dtype=float32)\n",
      "first tf.Tensor([0.2770286  0.23443326 0.4596005  0.22699544], shape=(4,), dtype=float32)\n",
      "second tf.Tensor(0.29951444, shape=(), dtype=float32)\n"
     ]
    }
   ],
   "source": [
    "out=tf.random.uniform([4,10])#随机模拟网络输出\n",
    "print('out',out)\n",
    "y=tf.constant([2,3,2,0])#随机构造样本真实标签\n",
    "y=tf.one_hot(y,depth=10)#one-hot编码\n",
    "print('y',y)\n",
    "loss=tf.keras.losses.mse(y,out)#计算每个样本的MSE\n",
    "print('first',loss)\n",
    "loss=tf.reduce_mean(loss)#平均MSE,loss应是标量\n",
    "print('second',loss)"
   ]
  },
  {
   "cell_type": "markdown",
   "metadata": {},
   "source": [
    "# 向量"
   ]
  },
  {
   "cell_type": "markdown",
   "metadata": {},
   "source": [
    "考虑 2 个输出节点的网络层，我们创建长度为 2 的偏置向量𝒃，并累加在每个输出节\n",
    "点上"
   ]
  },
  {
   "cell_type": "code",
   "execution_count": 31,
   "metadata": {},
   "outputs": [
    {
     "name": "stdout",
     "output_type": "stream",
     "text": [
      "before z: tf.Tensor(\n",
      "[[-1.5962642   0.48110268]\n",
      " [ 0.33444697  0.32757404]\n",
      " [ 2.180893   -1.0620048 ]\n",
      " [ 0.24013713  0.17447759]], shape=(4, 2), dtype=float32)\n",
      "b tf.Tensor([1. 1.], shape=(2,), dtype=float32)\n",
      "later z: tf.Tensor(\n",
      "[[-0.59626424  1.4811027 ]\n",
      " [ 1.3344469   1.327574  ]\n",
      " [ 3.180893   -0.0620048 ]\n",
      " [ 1.2401371   1.1744776 ]], shape=(4, 2), dtype=float32)\n"
     ]
    }
   ],
   "source": [
    "#z=wx,模拟获得激活函数的输入z\n",
    "z=tf.random.normal([4,2])\n",
    "print('before z:',z)\n",
    "b=tf.ones([2])#创建偏置向量\n",
    "print('b',b)\n",
    "z=z+b#累加上偏置向量\n",
    "print('later z:',z)"
   ]
  },
  {
   "cell_type": "markdown",
   "metadata": {},
   "source": [
    "通过高层接口类 Dense()方式创建的网络层，张量𝑾和𝒃存储在类的内部，由类自动创建并管理。可以通过全连接层的 bias 成员变量查看偏置变量𝒃，例如创建输入节点数为 4，\n",
    "输出节点数为 3 的线性层网络，那么它的偏置向量 b 的长度应为 3"
   ]
  },
  {
   "cell_type": "code",
   "execution_count": 57,
   "metadata": {},
   "outputs": [
    {
     "data": {
      "text/plain": [
       "<tf.Variable 'bias:0' shape=(3,) dtype=float32, numpy=array([0., 0., 0.], dtype=float32)>"
      ]
     },
     "execution_count": 57,
     "metadata": {},
     "output_type": "execute_result"
    }
   ],
   "source": [
    "fc=layers.Dense(3)#创建一层wx+b,输出节点为3\n",
    "#通过build函数创建w,b张量，输入节点为4\n",
    "fc.build(input_shape=(2,4))\n",
    "fc.bias#查看偏置向量\n"
   ]
  },
  {
   "cell_type": "markdown",
   "metadata": {},
   "source": [
    "# 矩阵"
   ]
  },
  {
   "cell_type": "code",
   "execution_count": 51,
   "metadata": {},
   "outputs": [
    {
     "data": {
      "text/plain": [
       "<tf.Tensor: id=514, shape=(2, 4), dtype=float32, numpy=\n",
       "array([[ 0.97159857,  0.3162923 , -0.55105823,  1.5994039 ],\n",
       "       [ 0.24338603,  0.78032976,  0.22079052, -0.5458991 ]],\n",
       "      dtype=float32)>"
      ]
     },
     "execution_count": 51,
     "metadata": {},
     "output_type": "execute_result"
    }
   ],
   "source": [
    "x=tf.random.normal([2,4])#2个样本，特征长度为4的张量\n",
    "x"
   ]
  },
  {
   "cell_type": "code",
   "execution_count": 53,
   "metadata": {},
   "outputs": [
    {
     "data": {
      "text/plain": [
       "<tf.Tensor: id=532, shape=(2, 3), dtype=float32, numpy=\n",
       "array([[2.3362365, 2.3362365, 2.3362365],\n",
       "       [0.6986072, 0.6986072, 0.6986072]], dtype=float32)>"
      ]
     },
     "execution_count": 53,
     "metadata": {},
     "output_type": "execute_result"
    }
   ],
   "source": [
    "w=tf.ones([4,3])#定义w张量\n",
    "b=tf.zeros([3])#定义b张量\n",
    "o=x@w+b#x@+b运算\n",
    "o"
   ]
  },
  {
   "cell_type": "code",
   "execution_count": 54,
   "metadata": {},
   "outputs": [
    {
     "data": {
      "text/plain": [
       "<tf.Variable 'kernel:0' shape=(4, 3) dtype=float32, numpy=\n",
       "array([[ 0.13950264, -0.5160996 ,  0.0671277 ],\n",
       "       [-0.9188251 , -0.6138718 ,  0.9183444 ],\n",
       "       [ 0.61755383,  0.18723965, -0.7957604 ],\n",
       "       [ 0.6210587 , -0.82218105, -0.08469516]], dtype=float32)>"
      ]
     },
     "execution_count": 54,
     "metadata": {},
     "output_type": "execute_result"
    }
   ],
   "source": [
    "fc=layers.Dense(3)#定义全连接层的输出节点为3\n",
    "fc.build(input_shape=(2,4))#定义全连接层输入节点为4\n",
    "fc.kernel#查看权值矩阵w"
   ]
  }
 ],
 "metadata": {
  "kernelspec": {
   "display_name": "Python 3",
   "language": "python",
   "name": "python3"
  },
  "language_info": {
   "codemirror_mode": {
    "name": "ipython",
    "version": 3
   },
   "file_extension": ".py",
   "mimetype": "text/x-python",
   "name": "python",
   "nbconvert_exporter": "python",
   "pygments_lexer": "ipython3",
   "version": "3.6.9"
  }
 },
 "nbformat": 4,
 "nbformat_minor": 4
}
